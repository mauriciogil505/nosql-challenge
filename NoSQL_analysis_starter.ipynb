{
 "cells": [
  {
   "cell_type": "markdown",
   "id": "9a57c4c6",
   "metadata": {},
   "source": [
    "# Eat Safe, Love"
   ]
  },
  {
   "cell_type": "markdown",
   "id": "064ef857",
   "metadata": {},
   "source": [
    "## Notebook Set Up"
   ]
  },
  {
   "cell_type": "code",
   "execution_count": 1,
   "id": "3ecdd008",
   "metadata": {},
   "outputs": [],
   "source": [
    "from pymongo import MongoClient\n",
    "import pandas as pd\n",
    "from pprint import pprint"
   ]
  },
  {
   "cell_type": "code",
   "execution_count": 2,
   "id": "59390c4a",
   "metadata": {},
   "outputs": [],
   "source": [
    "# Create an instance of MongoClient\n",
    "mongo = MongoClient(port=27017)"
   ]
  },
  {
   "cell_type": "code",
   "execution_count": 3,
   "id": "71e373c1",
   "metadata": {},
   "outputs": [],
   "source": [
    "# assign the uk_food database to a variable name\n",
    "db = mongo['uk_food']"
   ]
  },
  {
   "cell_type": "code",
   "execution_count": 4,
   "id": "18ab463c",
   "metadata": {},
   "outputs": [
    {
     "name": "stdout",
     "output_type": "stream",
     "text": [
      "Collections in the 'uk_food' database:\n",
      "establishments\n"
     ]
    }
   ],
   "source": [
    "# List all collections in the 'uk_food' database\n",
    "collections = db.list_collection_names()\n",
    "print(\"Collections in the 'uk_food' database:\")\n",
    "for collection in collections:\n",
    "    print(collection)\n"
   ]
  },
  {
   "cell_type": "code",
   "execution_count": 5,
   "id": "11c9f11b",
   "metadata": {},
   "outputs": [],
   "source": [
    "# assign the collection to a variable\n",
    "establishments = db['establishments']"
   ]
  },
  {
   "cell_type": "markdown",
   "id": "d5671434",
   "metadata": {},
   "source": [
    "## Part 3: Exploratory Analysis\n",
    "Unless otherwise stated, for each question: \n",
    "* Use `count_documents` to display the number of documents contained in the result.\n",
    "* Display the first document in the results using `pprint`.\n",
    "* Convert the result to a Pandas DataFrame, print the number of rows in the DataFrame, and display the first 10 rows."
   ]
  },
  {
   "cell_type": "markdown",
   "id": "314bd884",
   "metadata": {},
   "source": [
    "### 1. Which establishments have a hygiene score equal to 20?"
   ]
  },
  {
   "cell_type": "code",
   "execution_count": 6,
   "id": "c2da7648",
   "metadata": {},
   "outputs": [
    {
     "name": "stdout",
     "output_type": "stream",
     "text": [
      "Number of documents with hygiene score 20: 0\n",
      "No documents found with hygiene score 20.\n"
     ]
    }
   ],
   "source": [
    "# Find the establishments with a hygiene score of 20\n",
    "query = {\"HygieneScore\": 20}\n",
    "results = establishments.find(query)\n",
    "\n",
    "# Use count_documents to display the number of documents in the result\n",
    "count = establishments.count_documents(query)\n",
    "print(f\"Number of documents with hygiene score 20: {count}\")\n",
    "\n",
    "# Display the first document in the results using pprint\n",
    "from pprint import pprint\n",
    "results = establishments.find(query)\n",
    "\n",
    "first_result = next(results, None)\n",
    "if first_result:\n",
    "    pprint(first_result)\n",
    "else:\n",
    "    print(\"No documents found with hygiene score 20.\")"
   ]
  },
  {
   "cell_type": "code",
   "execution_count": 7,
   "id": "a6e5cece",
   "metadata": {},
   "outputs": [
    {
     "name": "stdout",
     "output_type": "stream",
     "text": [
      "Number of rows in the DataFrame: 0\n",
      "Empty DataFrame\n",
      "Columns: []\n",
      "Index: []\n"
     ]
    }
   ],
   "source": [
    "# Convert the result to a Pandas DataFrame\n",
    "df_results = pd.DataFrame(list(results))\n",
    "\n",
    "# Display the number of rows in the DataFrame\n",
    "print(f\"Number of rows in the DataFrame: {len(df_results)}\")\n",
    "\n",
    "# Display the first 10 rows of the DataFrame\n",
    "print(df_results.head(10))"
   ]
  },
  {
   "cell_type": "markdown",
   "id": "0ef4395a",
   "metadata": {},
   "source": [
    "### 2. Which establishments in London have a `RatingValue` greater than or equal to 4?"
   ]
  },
  {
   "cell_type": "code",
   "execution_count": 8,
   "id": "93c63829",
   "metadata": {},
   "outputs": [
    {
     "name": "stdout",
     "output_type": "stream",
     "text": [
      "Number of documents with RatingValue >= 4 in London: 33\n",
      "{'AddressLine1': 'Oak Apple Farm Building 103 Sheernes Docks',\n",
      " 'AddressLine2': 'Sheppy Kent',\n",
      " 'AddressLine3': '',\n",
      " 'AddressLine4': '',\n",
      " 'BusinessName': \"Charlie's\",\n",
      " 'BusinessType': 'Other catering premises',\n",
      " 'BusinessTypeID': 7841,\n",
      " 'ChangesByServerID': 0,\n",
      " 'Distance': 4627.439467780196,\n",
      " 'FHRSID': 621707,\n",
      " 'LocalAuthorityBusinessID': 'PI/000025307',\n",
      " 'LocalAuthorityCode': '508',\n",
      " 'LocalAuthorityEmailAddress': 'publicprotection@cityoflondon.gov.uk',\n",
      " 'LocalAuthorityName': 'City of London Corporation',\n",
      " 'LocalAuthorityWebSite': 'http://www.cityoflondon.gov.uk/Corporation/homepage.htm',\n",
      " 'NewRatingPending': False,\n",
      " 'Phone': '',\n",
      " 'PostCode': 'ME12',\n",
      " 'RatingDate': '2021-10-18T00:00:00',\n",
      " 'RatingKey': 'fhrs_4_en-gb',\n",
      " 'RatingValue': 4,\n",
      " 'RightToReply': '',\n",
      " 'SchemeType': 'FHRS',\n",
      " '_id': ObjectId('66a1b7a7a291c8a8dc9131d2'),\n",
      " 'geocode': {'latitude': '51.369321', 'longitude': '0.508551'},\n",
      " 'links': [{'href': 'https://api.ratings.food.gov.uk/establishments/621707',\n",
      "            'rel': 'self'}],\n",
      " 'meta': {'dataSource': None,\n",
      "          'extractDate': '0001-01-01T00:00:00',\n",
      "          'itemCount': 0,\n",
      "          'pageNumber': 0,\n",
      "          'pageSize': 0,\n",
      "          'returncode': None,\n",
      "          'totalCount': 0,\n",
      "          'totalPages': 0},\n",
      " 'scores': {'ConfidenceInManagement': 5, 'Hygiene': 5, 'Structural': 10}}\n"
     ]
    }
   ],
   "source": [
    "# Find the establishments with London as the Local Authority and has a RatingValue greater than or equal to 4.\n",
    "query = {\n",
    "    \"LocalAuthorityName\": {\"$regex\": \"London\"},\n",
    "    \"RatingValue\": {\"$gte\": 4}\n",
    "}\n",
    "\n",
    "# Use count_documents to display the number of documents in the result\n",
    "count = establishments.count_documents(query)\n",
    "print(f\"Number of documents with RatingValue >= 4 in London: {count}\")\n",
    "\n",
    "# Display the first document in the results using pprint\n",
    "results = establishments.find(query)\n",
    "\n",
    "# Covert to a list to help visulize results\n",
    "results_list = list(results)\n",
    "if results_list:\n",
    "    pprint(results_list[0])\n",
    "else:\n",
    "    print(\"No documents found.\")\n"
   ]
  },
  {
   "cell_type": "code",
   "execution_count": 9,
   "id": "07e24ccb",
   "metadata": {},
   "outputs": [
    {
     "name": "stdout",
     "output_type": "stream",
     "text": [
      "Number of rows in the DataFrame: 0\n",
      "Empty DataFrame\n",
      "Columns: []\n",
      "Index: []\n"
     ]
    }
   ],
   "source": [
    "# Convert the result to a Pandas DataFrame\n",
    "df_results = pd.DataFrame(list(results))\n",
    "\n",
    "# Display the number of rows in the DataFrame\n",
    "print(f\"Number of rows in the DataFrame: {len(df_results)}\")\n",
    "\n",
    "# Display the first 10 rows of the DataFrame\n",
    "print(df_results.head(10))"
   ]
  },
  {
   "attachments": {},
   "cell_type": "markdown",
   "id": "4e570caf",
   "metadata": {},
   "source": [
    "### 3. What are the top 5 establishments with a `RatingValue` rating value of 5, sorted by lowest hygiene score, nearest to the new restaurant added, \"Penang Flavours\"?"
   ]
  },
  {
   "cell_type": "code",
   "execution_count": 34,
   "id": "7f599f3d",
   "metadata": {},
   "outputs": [
    {
     "name": "stdout",
     "output_type": "stream",
     "text": [
      "                                            BusinessName  RatingValue  \\\n",
      "33231                                     Kitchen Garden          5.0   \n",
      "33219                                   Black Eye Coffee          5.0   \n",
      "33184                                  Hardys Free house          5.0   \n",
      "33186                                           Zaibatsu          5.0   \n",
      "33192  The Trafalgar also T/A Balboa Colombian Pacifi...          5.0   \n",
      "\n",
      "       Distance  HygieneScore  \n",
      "33231  0.432985           0.0  \n",
      "33219  0.460225           5.0  \n",
      "33184  0.463786           5.0  \n",
      "33186  0.479258           5.0  \n",
      "33192  0.482788           0.0  \n"
     ]
    },
    {
     "name": "stderr",
     "output_type": "stream",
     "text": [
      "/var/folders/3r/0zp_mxd52m7gvcpxj9t957hm0000gn/T/ipykernel_90246/3294397510.py:30: SettingWithCopyWarning: \n",
      "A value is trying to be set on a copy of a slice from a DataFrame.\n",
      "Try using .loc[row_indexer,col_indexer] = value instead\n",
      "\n",
      "See the caveats in the documentation: https://pandas.pydata.org/pandas-docs/stable/user_guide/indexing.html#returning-a-view-versus-a-copy\n",
      "  filtered_df['Distance'] = filtered_df.apply(calculate_distance, axis=1)\n",
      "/var/folders/3r/0zp_mxd52m7gvcpxj9t957hm0000gn/T/ipykernel_90246/3294397510.py:33: SettingWithCopyWarning: \n",
      "A value is trying to be set on a copy of a slice from a DataFrame.\n",
      "Try using .loc[row_indexer,col_indexer] = value instead\n",
      "\n",
      "See the caveats in the documentation: https://pandas.pydata.org/pandas-docs/stable/user_guide/indexing.html#returning-a-view-versus-a-copy\n",
      "  filtered_df['HygieneScore'] = filtered_df['scores'].apply(lambda x: x.get('Hygiene', float('inf')))\n"
     ]
    }
   ],
   "source": [
    "import json\n",
    "import pandas as pd\n",
    "from geopy.distance import great_circle\n",
    "\n",
    "# Load the establishments data from the JSON file\n",
    "file_path = '/Users/mauriciogil/Desktop/nosql-challenge/Resources/establishments.json'\n",
    "with open(file_path, 'r') as file:\n",
    "    establishments_list = json.load(file)\n",
    "\n",
    "# Convert to Pandas DataFrame\n",
    "df = pd.DataFrame(establishments_list)\n",
    "\n",
    "# Retrieve latitude and longitude of \"Penang Flavours\"\n",
    "penang_flavours = df[df['BusinessName'] == \"Penang Flavours\"].iloc[0]\n",
    "penang_lat = float(penang_flavours['geocode']['latitude'])\n",
    "penang_lon = float(penang_flavours['geocode']['longitude'])\n",
    "\n",
    "# Convert hygiene scores from JSON strings to dictionaries\n",
    "df['scores'] = df['scores'].apply(lambda x: eval(x) if isinstance(x, str) else x)\n",
    "\n",
    "# Filter for establishments with RatingValue of 5\n",
    "filtered_df = df[df['RatingValue'] == 5]\n",
    "\n",
    "# Calculate distance from \"Penang Flavours\"\n",
    "def calculate_distance(row):\n",
    "    lat = float(row['geocode']['latitude'])\n",
    "    lon = float(row['geocode']['longitude'])\n",
    "    return great_circle((penang_lat, penang_lon), (lat, lon)).kilometers\n",
    "\n",
    "filtered_df['Distance'] = filtered_df.apply(calculate_distance, axis=1)\n",
    "\n",
    "# Sort by hygiene score (assuming 'Hygiene' is a key in the scores dictionary)\n",
    "filtered_df['HygieneScore'] = filtered_df['scores'].apply(lambda x: x.get('Hygiene', float('inf')))\n",
    "sorted_df = filtered_df.sort_values(by=['Distance', 'HygieneScore'])\n",
    "\n",
    "# Get the top 5 establishments\n",
    "top_5_establishments = sorted_df.head(5)\n",
    "\n",
    "print(top_5_establishments[['BusinessName', 'RatingValue', 'Distance', 'HygieneScore']])\n"
   ]
  },
  {
   "cell_type": "code",
   "execution_count": 40,
   "id": "a6ad16f7",
   "metadata": {},
   "outputs": [
    {
     "name": "stdout",
     "output_type": "stream",
     "text": [
      "                            BusinessName  RatingValue     Distance\n",
      "0                              Charlie's            4  4627.439468\n",
      "1                Mv City Cruises Erasmus            5  4627.873179\n",
      "2              Benfleet Motor Yacht Club            4  4631.968418\n",
      "3   Coombs Catering t/a The Lock and Key            5  4636.846754\n",
      "4               Tilbury Seafarers Centre            5  4636.847650\n",
      "5                             Mv Valulla            5  4640.460834\n",
      "6                          Tereza Joanne            5  4648.301822\n",
      "7                       Brick Lane Brews            4  4649.173485\n",
      "8          The Nuance Group (UK) Limited            5  4649.188826\n",
      "9                               WH Smith            5  4649.188850\n",
      "10                      City Bar & Grill            5  4649.188850\n",
      "11                            Caffè Nero            5  4649.485929\n",
      "12                            Jet Centre            5  4649.485870\n",
      "13                Mv Sunborn Yacht Hotel            5  4650.098130\n",
      "14                     Good Hotel London            5  4650.415301\n",
      "15                         La Nonna lina            4  4650.432066\n",
      "16             Wake Up Docklands Limited            5  4650.432926\n",
      "17                      MV Venus Clipper            5  4650.747349\n",
      "18                    MV Jupiter clipper            5  4650.805008\n",
      "19                    MV Typhoon clipper            5  4650.805008\n",
      "20                    MV Monsoon clipper            5  4650.805008\n",
      "21                    MV Tornado clipper            5  4650.805008\n",
      "22                    MV Cyclone clipper            5  4650.805008\n",
      "23                       MV Moon clipper            5  4650.805001\n",
      "24                  MV Hurricane clipper            5  4650.805008\n",
      "25                    MV Neptune clipper            5  4650.805008\n",
      "26                     MV Galaxy clipper            5  4650.805008\n",
      "27                     MV Aurora clipper            5  4650.805008\n",
      "28                       Canary Wharf 1V            5  4650.805044\n",
      "29                        MV Sun clipper            5  4650.805001\n",
      "30                    MV Mercury clipper            5  4650.805001\n",
      "31                     MV Meteor clipper            5  4650.805008\n",
      "32                      Mv Storm Clipper            5  4650.805008\n"
     ]
    }
   ],
   "source": [
    "# Convert result to Pandas DataFrame\n",
    "filtered_df = pd.DataFrame(results_list)\n",
    "\n",
    "# Display the DataFrame\n",
    "print(filtered_df[['BusinessName', 'RatingValue', 'Distance', ]])"
   ]
  },
  {
   "cell_type": "markdown",
   "id": "67281254",
   "metadata": {},
   "source": [
    "### 4. How many establishments in each Local Authority area have a hygiene score of 0?"
   ]
  },
  {
   "cell_type": "code",
   "execution_count": 41,
   "id": "4eeb227e",
   "metadata": {},
   "outputs": [
    {
     "name": "stdout",
     "output_type": "stream",
     "text": [
      "Number of documents in the result: 55\n",
      "{'_id': 'Thanet', 'count': 1130}\n",
      "{'_id': 'Greenwich', 'count': 882}\n",
      "{'_id': 'Maidstone', 'count': 713}\n",
      "{'_id': 'Newham', 'count': 711}\n",
      "{'_id': 'Swale', 'count': 686}\n",
      "{'_id': 'Chelmsford', 'count': 680}\n",
      "{'_id': 'Medway', 'count': 672}\n",
      "{'_id': 'Bexley', 'count': 607}\n",
      "{'_id': 'Southend-On-Sea', 'count': 586}\n",
      "{'_id': 'Tendring', 'count': 542}\n"
     ]
    }
   ],
   "source": [
    "# Create a pipeline that:\n",
    "# 1. Matches establishments with a hygiene score of 0\n",
    "# 2. Groups the matches by Local Authority\n",
    "# 3. Sorts the matches from highest to lowest\n",
    "\n",
    "# Print the number of documents in the result\n",
    "\n",
    "# Print the first 10 results\n",
    "from pymongo import MongoClient\n",
    "\n",
    "# Create a MongoClient instance and connect to the 'uk_food' database\n",
    "mongo = MongoClient(port=27017)\n",
    "db = mongo['uk_food']\n",
    "\n",
    "\n",
    "pipeline = [\n",
    "    # Match documents with a hygiene score of 0\n",
    "    {\"$match\": {\"scores.Hygiene\": 0}},\n",
    "    \n",
    "    # Group by Local Authority and count the number of establishments\n",
    "    {\"$group\": {\n",
    "        \"_id\": \"$LocalAuthorityName\",\n",
    "        \"count\": {\"$sum\": 1}\n",
    "    }},\n",
    "    \n",
    "    # Sort by count in descending order\n",
    "    {\"$sort\": {\"count\": -1}}\n",
    "]\n",
    "\n",
    "# Execute the aggregation pipeline\n",
    "results = list(db.establishments.aggregate(pipeline))\n",
    "\n",
    "# Print the number of documents in the result\n",
    "print(f\"Number of documents in the result: {len(results)}\")\n",
    "\n",
    "# Print the first 10 results\n",
    "for result in results[:10]:\n",
    "    print(result)\n"
   ]
  },
  {
   "cell_type": "code",
   "execution_count": 42,
   "id": "d8aab364",
   "metadata": {},
   "outputs": [
    {
     "name": "stdout",
     "output_type": "stream",
     "text": [
      "Number of rows in the DataFrame: 55\n",
      "  LocalAuthorityName  EstablishmentCount\n",
      "0             Thanet                1130\n",
      "1          Greenwich                 882\n",
      "2          Maidstone                 713\n",
      "3             Newham                 711\n",
      "4              Swale                 686\n",
      "5         Chelmsford                 680\n",
      "6             Medway                 672\n",
      "7             Bexley                 607\n",
      "8    Southend-On-Sea                 586\n",
      "9           Tendring                 542\n"
     ]
    }
   ],
   "source": [
    "# Create a MongoClient instance and connect to the 'uk_food' database\n",
    "mongo = MongoClient(port=27017)\n",
    "db = mongo['uk_food']\n",
    "\n",
    "# Define the aggregation pipeline\n",
    "pipeline = [\n",
    "    # Match documents with a hygiene score of 0\n",
    "    {\"$match\": {\"scores.Hygiene\": 0}},\n",
    "    \n",
    "    # Group by Local Authority and count the number of establishments\n",
    "    {\"$group\": {\n",
    "        \"_id\": \"$LocalAuthorityName\",\n",
    "        \"count\": {\"$sum\": 1}\n",
    "    }},\n",
    "    \n",
    "    # Sort by count in descending order\n",
    "    {\"$sort\": {\"count\": -1}}\n",
    "]\n",
    "\n",
    "# Execute the aggregation pipeline\n",
    "results = list(db.establishments.aggregate(pipeline))\n",
    "\n",
    "# Convert the result to a Pandas DataFrame\n",
    "df = pd.DataFrame(results)\n",
    "\n",
    "# Rename columns for clarity\n",
    "df.columns = ['LocalAuthorityName', 'EstablishmentCount']\n",
    "\n",
    "# Display the number of rows in the DataFrame\n",
    "print(f\"Number of rows in the DataFrame: {len(df)}\")\n",
    "\n",
    "# Display the first 10 rows of the DataFrame\n",
    "print(df.head(10))"
   ]
  },
  {
   "cell_type": "code",
   "execution_count": null,
   "id": "33fc2613-0f18-4ce8-b56c-94640915a907",
   "metadata": {},
   "outputs": [],
   "source": []
  }
 ],
 "metadata": {
  "kernelspec": {
   "display_name": "Python 3 (ipykernel)",
   "language": "python",
   "name": "python3"
  },
  "language_info": {
   "codemirror_mode": {
    "name": "ipython",
    "version": 3
   },
   "file_extension": ".py",
   "mimetype": "text/x-python",
   "name": "python",
   "nbconvert_exporter": "python",
   "pygments_lexer": "ipython3",
   "version": "3.11.9"
  }
 },
 "nbformat": 4,
 "nbformat_minor": 5
}
