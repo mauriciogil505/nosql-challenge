{
 "cells": [
  {
   "cell_type": "markdown",
   "id": "9a57c4c6",
   "metadata": {},
   "source": [
    "# Eat Safe, Love"
   ]
  },
  {
   "cell_type": "markdown",
   "id": "064ef857",
   "metadata": {},
   "source": [
    "## Part 1: Database and Jupyter Notebook Set Up"
   ]
  },
  {
   "cell_type": "markdown",
   "id": "664e3c1f",
   "metadata": {},
   "source": [
    "Import the data provided in the `establishments.json` file from your Terminal. Name the database `uk_food` and the collection `establishments`.\n",
    "\n",
    "Within this markdown cell, copy the line of text you used to import the data from your Terminal. This way, future analysts will be able to repeat your process.\n",
    "\n",
    "e.g.: Import the dataset with mongoimport --db uk_food --collection establishments --drop --file ./Resources/establishments.json --jsonArray"
   ]
  },
  {
   "cell_type": "code",
   "execution_count": 10,
   "id": "3ecdd008",
   "metadata": {},
   "outputs": [],
   "source": [
    "# Import dependencies\n",
    "from pymongo import MongoClient\n",
    "from pprint import pprint"
   ]
  },
  {
   "cell_type": "code",
   "execution_count": 11,
   "id": "59390c4a",
   "metadata": {},
   "outputs": [],
   "source": [
    "# Create an instance of MongoClient\n",
    "mongo = MongoClient(port=27017)"
   ]
  },
  {
   "cell_type": "code",
   "execution_count": 12,
   "id": "7f9ececa",
   "metadata": {},
   "outputs": [
    {
     "name": "stdout",
     "output_type": "stream",
     "text": [
      "Databases: ['admin', 'config', 'local', 'uk_food']\n"
     ]
    }
   ],
   "source": [
    "# confirm that our new database was created\n",
    "print(\"Databases:\", mongo.list_database_names())\n"
   ]
  },
  {
   "cell_type": "code",
   "execution_count": 13,
   "id": "71e373c1",
   "metadata": {},
   "outputs": [],
   "source": [
    "# assign the uk_food database to a variable name\n",
    "db = mongo['uk_food']"
   ]
  },
  {
   "cell_type": "code",
   "execution_count": 14,
   "id": "ef1b89ed",
   "metadata": {},
   "outputs": [
    {
     "name": "stdout",
     "output_type": "stream",
     "text": [
      "['establishments']\n"
     ]
    }
   ],
   "source": [
    "# review the collections in our new database\n",
    "print(db.list_collection_names())"
   ]
  },
  {
   "cell_type": "code",
   "execution_count": 15,
   "id": "6a0d92df",
   "metadata": {},
   "outputs": [
    {
     "name": "stdout",
     "output_type": "stream",
     "text": [
      "{'AddressLine1': '27 Granville Road',\n",
      " 'AddressLine2': 'St Margarets Bay',\n",
      " 'AddressLine3': 'Kent',\n",
      " 'AddressLine4': '',\n",
      " 'BusinessName': 'Lenox House',\n",
      " 'BusinessType': 'Hotel/bed & breakfast/guest house',\n",
      " 'BusinessTypeID': 7842,\n",
      " 'ChangesByServerID': 0,\n",
      " 'Distance': 4587.440906956158,\n",
      " 'FHRSID': 632212,\n",
      " 'LocalAuthorityBusinessID': 'PI/000043474',\n",
      " 'LocalAuthorityCode': '182',\n",
      " 'LocalAuthorityEmailAddress': 'publicprotection@dover.gov.uk',\n",
      " 'LocalAuthorityName': 'Dover',\n",
      " 'LocalAuthorityWebSite': 'http://www.dover.gov.uk/',\n",
      " 'NewRatingPending': False,\n",
      " 'Phone': '',\n",
      " 'PostCode': 'CT15 6DS',\n",
      " 'RatingDate': '2020-03-17T00:00:00',\n",
      " 'RatingKey': 'fhrs_5_en-gb',\n",
      " 'RatingValue': '5',\n",
      " 'RightToReply': '',\n",
      " 'SchemeType': 'FHRS',\n",
      " '_id': ObjectId('66a1b7a6a291c8a8dc90f999'),\n",
      " 'geocode': {'latitude': '51.152411', 'longitude': '1.385585'},\n",
      " 'links': [{'href': 'https://api.ratings.food.gov.uk/establishments/632212',\n",
      "            'rel': 'self'}],\n",
      " 'meta': {'dataSource': None,\n",
      "          'extractDate': '0001-01-01T00:00:00',\n",
      "          'itemCount': 0,\n",
      "          'pageNumber': 0,\n",
      "          'pageSize': 0,\n",
      "          'returncode': None,\n",
      "          'totalCount': 0,\n",
      "          'totalPages': 0},\n",
      " 'scores': {'ConfidenceInManagement': 5, 'Hygiene': 0, 'Structural': 0}}\n"
     ]
    }
   ],
   "source": [
    "# Review a document in the establishments collection\n",
    "pprint(db.establishments.find_one())"
   ]
  },
  {
   "cell_type": "code",
   "execution_count": 16,
   "id": "11c9f11b",
   "metadata": {},
   "outputs": [],
   "source": [
    "# assign the collection to a variable\n",
    "establishments = db['establishments']"
   ]
  },
  {
   "cell_type": "markdown",
   "id": "d5671434",
   "metadata": {},
   "source": [
    "## Part 2: Update the Database"
   ]
  },
  {
   "cell_type": "markdown",
   "id": "314bd884",
   "metadata": {},
   "source": [
    "1. An exciting new halal restaurant just opened in Greenwich, but hasn't been rated yet. The magazine has asked you to include it in your analysis. Add the following restaurant \"Penang Flavours\" to the database."
   ]
  },
  {
   "cell_type": "code",
   "execution_count": 35,
   "id": "c2da7648",
   "metadata": {},
   "outputs": [],
   "source": [
    "# Create a dictionary for the new restaurant data\n",
    "new_restaurant = {\n",
    "    \"FHRSID\": 999999,  # Ensure this ID is unique\n",
    "    \"ChangesByServerID\": 0,\n",
    "    \"LocalAuthorityBusinessID\": \"PI/000999999\",\n",
    "    \"BusinessName\": \"Penang Flavours\",\n",
    "    \"BusinessType\": \"Restaurant/Cafe/Canteen\",\n",
    "    \"BusinessTypeID\": 1,  # Assuming BusinessTypeID for Restaurant/Cafe/Canteen is 1\n",
    "    \"AddressLine1\": \"123 Greenwich Street\",\n",
    "    \"AddressLine2\": \"\",\n",
    "    \"AddressLine3\": \"Greenwich\",\n",
    "    \"AddressLine4\": \"\",\n",
    "    \"PostCode\": \"SE10 9AA\",\n",
    "    \"Phone\": \"\",\n",
    "    \"RatingValue\": \"AwaitingInspection\",\n",
    "    \"RatingKey\": \"fhrs_awaitinginspection_en-gb\",\n",
    "    \"RatingDate\": \"2024-07-24T00:00:00\",\n",
    "    \"LocalAuthorityCode\": \"000\",\n",
    "    \"LocalAuthorityName\": \"Greenwich\",\n",
    "    \"LocalAuthorityWebSite\": \"http://www.greenwich.gov.uk/\",\n",
    "    \"LocalAuthorityEmailAddress\": \"publicprotection@greenwich.gov.uk\",\n",
    "    \"scores\": {\"Hygiene\": None, \"Structural\": None, \"ConfidenceInManagement\": None},\n",
    "    \"SchemeType\": \"FHRS\",\n",
    "    \"geocode\": {\"longitude\": \"-0.0035\", \"latitude\": \"51.4810\"},\n",
    "    \"RightToReply\": \"\",\n",
    "    \"Distance\": 0,\n",
    "    \"NewRatingPending\": True,\n",
    "    \"meta\": {\"dataSource\": None, \"extractDate\": \"0001-01-01T00:00:00\", \"itemCount\": 0, \"returncode\": None, \"totalCount\": 0, \"totalPages\": 0, \"pageSize\": 0, \"pageNumber\": 0},\n",
    "    \"links\": [{\"rel\": \"self\", \"href\": \"https://api.ratings.food.gov.uk/establishments/999999\"}]\n",
    "}\n",
    "\n",
    "# Insert the new restaurant into the collection\n",
    "result = db.establishments.insert_one(new_restaurant)\n",
    "\n",
    "\n"
   ]
  },
  {
   "cell_type": "code",
   "execution_count": 33,
   "id": "63bb10f9",
   "metadata": {},
   "outputs": [
    {
     "name": "stdout",
     "output_type": "stream",
     "text": [
      "{'AddressLine1': '123 Greenwich Street',\n",
      " 'AddressLine2': '',\n",
      " 'AddressLine3': 'Greenwich',\n",
      " 'AddressLine4': '',\n",
      " 'BusinessName': 'Penang Flavours',\n",
      " 'BusinessType': 'Restaurant/Cafe/Canteen',\n",
      " 'BusinessTypeID': 1,\n",
      " 'ChangesByServerID': 0,\n",
      " 'Distance': 0,\n",
      " 'FHRSID': 999999,\n",
      " 'LocalAuthorityBusinessID': 'PI/000999999',\n",
      " 'LocalAuthorityCode': '000',\n",
      " 'LocalAuthorityEmailAddress': 'publicprotection@greenwich.gov.uk',\n",
      " 'LocalAuthorityName': 'Greenwich',\n",
      " 'LocalAuthorityWebSite': 'http://www.greenwich.gov.uk/',\n",
      " 'NewRatingPending': True,\n",
      " 'Phone': '',\n",
      " 'PostCode': 'SE10 9AA',\n",
      " 'RatingDate': '2024-07-24T00:00:00',\n",
      " 'RatingKey': 'fhrs_awaitinginspection_en-gb',\n",
      " 'RatingValue': None,\n",
      " 'RightToReply': '',\n",
      " 'SchemeType': 'FHRS',\n",
      " '_id': ObjectId('66aae7eb35cf3160a59d9e25'),\n",
      " 'geocode': {'latitude': '51.4810', 'longitude': '-0.0035'},\n",
      " 'links': [{'href': 'https://api.ratings.food.gov.uk/establishments/999999',\n",
      "            'rel': 'self'}],\n",
      " 'meta': {'dataSource': None,\n",
      "          'extractDate': '0001-01-01T00:00:00',\n",
      "          'itemCount': 0,\n",
      "          'pageNumber': 0,\n",
      "          'pageSize': 0,\n",
      "          'returncode': None,\n",
      "          'totalCount': 0,\n",
      "          'totalPages': 0},\n",
      " 'scores': {'ConfidenceInManagement': None,\n",
      "            'Hygiene': None,\n",
      "            'Structural': None}}\n"
     ]
    }
   ],
   "source": [
    "# Check that the new restaurant was inserted\n",
    "inserted_document = db.establishments.find_one({\"FHRSID\": 999999})\n",
    "pprint(inserted_document)"
   ]
  },
  {
   "cell_type": "markdown",
   "id": "0ef4395a",
   "metadata": {},
   "source": [
    "2. Find the BusinessTypeID for \"Restaurant/Cafe/Canteen\" and return only the `BusinessTypeID` and `BusinessType` fields."
   ]
  },
  {
   "cell_type": "code",
   "execution_count": 20,
   "id": "93c63829",
   "metadata": {},
   "outputs": [
    {
     "name": "stdout",
     "output_type": "stream",
     "text": [
      "{'BusinessType': 'Restaurant/Cafe/Canteen', 'BusinessTypeID': 1}\n"
     ]
    }
   ],
   "source": [
    "# Find the BusinessTypeID for \"Restaurant/Cafe/Canteen\" and return only the BusinessTypeID and BusinessType fields\n",
    "business_type = db.establishments.find_one(\n",
    "    {\"BusinessType\": \"Restaurant/Cafe/Canteen\"},\n",
    "    {\"BusinessTypeID\": 1, \"BusinessType\": 1, \"_id\": 0}\n",
    ")\n",
    "pprint(business_type)"
   ]
  },
  {
   "cell_type": "markdown",
   "id": "4e570caf",
   "metadata": {},
   "source": [
    "3. Update the new restaurant with the `BusinessTypeID` you found."
   ]
  },
  {
   "cell_type": "code",
   "execution_count": 32,
   "id": "7f599f3d",
   "metadata": {},
   "outputs": [
    {
     "data": {
      "text/plain": [
       "UpdateResult({'n': 1, 'nModified': 0, 'ok': 1.0, 'updatedExisting': True}, acknowledged=True)"
      ]
     },
     "execution_count": 32,
     "metadata": {},
     "output_type": "execute_result"
    }
   ],
   "source": [
    "# Update the new restaurant with the correct BusinessTypeID\n",
    "db.establishments.update_one(\n",
    "    {\"FHRSID\": 999999},\n",
    "    {\"$set\": {\"BusinessTypeID\": 1}}\n",
    ")"
   ]
  },
  {
   "cell_type": "code",
   "execution_count": 22,
   "id": "a6ad16f7",
   "metadata": {},
   "outputs": [
    {
     "name": "stdout",
     "output_type": "stream",
     "text": [
      "{'AddressLine1': '123 Greenwich Street',\n",
      " 'AddressLine2': '',\n",
      " 'AddressLine3': 'Greenwich',\n",
      " 'AddressLine4': '',\n",
      " 'BusinessName': 'Penang Flavours',\n",
      " 'BusinessType': 'Restaurant/Cafe/Canteen',\n",
      " 'BusinessTypeID': 1,\n",
      " 'ChangesByServerID': 0,\n",
      " 'Distance': 0,\n",
      " 'FHRSID': 999999,\n",
      " 'LocalAuthorityBusinessID': 'PI/000999999',\n",
      " 'LocalAuthorityCode': '000',\n",
      " 'LocalAuthorityEmailAddress': 'publicprotection@greenwich.gov.uk',\n",
      " 'LocalAuthorityName': 'Greenwich',\n",
      " 'LocalAuthorityWebSite': 'http://www.greenwich.gov.uk/',\n",
      " 'NewRatingPending': True,\n",
      " 'Phone': '',\n",
      " 'PostCode': 'SE10 9AA',\n",
      " 'RatingDate': '2024-07-24T00:00:00',\n",
      " 'RatingKey': 'fhrs_awaitinginspection_en-gb',\n",
      " 'RatingValue': 'AwaitingInspection',\n",
      " 'RightToReply': '',\n",
      " 'SchemeType': 'FHRS',\n",
      " '_id': ObjectId('66aae7eb35cf3160a59d9e25'),\n",
      " 'geocode': {'latitude': '51.4810', 'longitude': '-0.0035'},\n",
      " 'links': [{'href': 'https://api.ratings.food.gov.uk/establishments/999999',\n",
      "            'rel': 'self'}],\n",
      " 'meta': {'dataSource': None,\n",
      "          'extractDate': '0001-01-01T00:00:00',\n",
      "          'itemCount': 0,\n",
      "          'pageNumber': 0,\n",
      "          'pageSize': 0,\n",
      "          'returncode': None,\n",
      "          'totalCount': 0,\n",
      "          'totalPages': 0},\n",
      " 'scores': {'ConfidenceInManagement': None,\n",
      "            'Hygiene': None,\n",
      "            'Structural': None}}\n"
     ]
    }
   ],
   "source": [
    "# Confirm that the new restaurant was updated\n",
    "updated_document = db.establishments.find_one({\"FHRSID\": 999999})\n",
    "pprint(updated_document)"
   ]
  },
  {
   "cell_type": "markdown",
   "id": "67281254",
   "metadata": {},
   "source": [
    "4. The magazine is not interested in any establishments in Dover, so check how many documents contain the Dover Local Authority. Then, remove any establishments within the Dover Local Authority from the database, and check the number of documents to ensure they were deleted."
   ]
  },
  {
   "cell_type": "code",
   "execution_count": 23,
   "id": "768474a6",
   "metadata": {},
   "outputs": [
    {
     "name": "stdout",
     "output_type": "stream",
     "text": [
      "Number of documents with LocalAuthorityName 'Dover': 994\n"
     ]
    }
   ],
   "source": [
    "# Find how many documents have LocalAuthorityName as \"Dover\"\n",
    "count_dover = db.establishments.count_documents({\"LocalAuthorityName\": \"Dover\"})\n",
    "print(f\"Number of documents with LocalAuthorityName 'Dover': {count_dover}\")\n"
   ]
  },
  {
   "cell_type": "code",
   "execution_count": 24,
   "id": "a11d5f1b",
   "metadata": {},
   "outputs": [],
   "source": [
    "# Delete all documents where LocalAuthorityName is \"Dover\"\n",
    "result = db.establishments.delete_many({\"LocalAuthorityName\": \"Dover\"})"
   ]
  },
  {
   "cell_type": "code",
   "execution_count": 25,
   "id": "2a51aba0",
   "metadata": {},
   "outputs": [
    {
     "name": "stdout",
     "output_type": "stream",
     "text": [
      "Remaining documents with LocalAuthorityName 'Dover': 0\n"
     ]
    }
   ],
   "source": [
    "# Check if any remaining documents include Dover\n",
    "remaining_dover = db.establishments.count_documents({\"LocalAuthorityName\": \"Dover\"})\n",
    "print(f\"Remaining documents with LocalAuthorityName 'Dover': {remaining_dover}\")"
   ]
  },
  {
   "cell_type": "code",
   "execution_count": 26,
   "id": "8c356f7b",
   "metadata": {},
   "outputs": [
    {
     "name": "stdout",
     "output_type": "stream",
     "text": [
      "{'AddressLine1': 'St Marys Church Of England Primary School',\n",
      " 'AddressLine2': 'Warren Road',\n",
      " 'AddressLine3': 'Folkestone',\n",
      " 'AddressLine4': 'Kent',\n",
      " 'BusinessName': 'St Marys COE (aided) Primary School',\n",
      " 'BusinessType': 'School/college/university',\n",
      " 'BusinessTypeID': 7845,\n",
      " 'ChangesByServerID': 0,\n",
      " 'Distance': 4591.871474174837,\n",
      " 'FHRSID': 289353,\n",
      " 'LocalAuthorityBusinessID': 'PI/000002468',\n",
      " 'LocalAuthorityCode': '188',\n",
      " 'LocalAuthorityEmailAddress': 'foodteam@folkestone-hythe.gov.uk',\n",
      " 'LocalAuthorityName': 'Folkestone and Hythe',\n",
      " 'LocalAuthorityWebSite': 'http://www.folkestone-hythe.gov.uk',\n",
      " 'NewRatingPending': False,\n",
      " 'Phone': '',\n",
      " 'PostCode': 'CT19 6QH',\n",
      " 'RatingDate': '2016-09-13T00:00:00',\n",
      " 'RatingKey': 'fhrs_5_en-gb',\n",
      " 'RatingValue': '5',\n",
      " 'RightToReply': '',\n",
      " 'SchemeType': 'FHRS',\n",
      " '_id': ObjectId('66a1b7a6a291c8a8dc90fc7e'),\n",
      " 'geocode': {'latitude': '51.085797', 'longitude': '1.194762'},\n",
      " 'links': [{'href': 'https://api.ratings.food.gov.uk/establishments/289353',\n",
      "            'rel': 'self'}],\n",
      " 'meta': {'dataSource': None,\n",
      "          'extractDate': '0001-01-01T00:00:00',\n",
      "          'itemCount': 0,\n",
      "          'pageNumber': 0,\n",
      "          'pageSize': 0,\n",
      "          'returncode': None,\n",
      "          'totalCount': 0,\n",
      "          'totalPages': 0},\n",
      " 'scores': {'ConfidenceInManagement': 0, 'Hygiene': 0, 'Structural': 0}}\n"
     ]
    }
   ],
   "source": [
    "# Check that other documents remain with 'find_one'\n",
    "sample_document = db.establishments.find_one()\n",
    "pprint(sample_document)"
   ]
  },
  {
   "attachments": {},
   "cell_type": "markdown",
   "id": "e9f1662d",
   "metadata": {},
   "source": [
    "5. Some of the number values are stored as strings, when they should be stored as numbers."
   ]
  },
  {
   "attachments": {},
   "cell_type": "markdown",
   "id": "c46df2df",
   "metadata": {},
   "source": [
    "Use `update_many` to convert `latitude` and `longitude` to decimal numbers."
   ]
  },
  {
   "cell_type": "code",
   "execution_count": 27,
   "id": "fd4112ce",
   "metadata": {},
   "outputs": [],
   "source": [
    "# Change the data type from String to Decimal for longitude and latitude\n",
    "from pymongo import UpdateMany"
   ]
  },
  {
   "attachments": {},
   "cell_type": "markdown",
   "id": "142e319c",
   "metadata": {},
   "source": [
    "Use `update_many` to convert `RatingValue` to integer numbers."
   ]
  },
  {
   "cell_type": "code",
   "execution_count": 28,
   "id": "04430a5b",
   "metadata": {},
   "outputs": [
    {
     "data": {
      "text/plain": [
       "UpdateResult({'n': 4094, 'nModified': 4094, 'ok': 1.0, 'updatedExisting': True}, acknowledged=True)"
      ]
     },
     "execution_count": 28,
     "metadata": {},
     "output_type": "execute_result"
    }
   ],
   "source": [
    "# Set non 1-5 Rating Values to Null\n",
    "non_ratings = [\"AwaitingInspection\", \"Awaiting Inspection\", \"AwaitingPublication\", \"Pass\", \"Exempt\"]\n",
    "establishments.update_many({\"RatingValue\": {\"$in\": non_ratings}}, [ {'$set':{ \"RatingValue\" : None}} ])"
   ]
  },
  {
   "cell_type": "code",
   "execution_count": 31,
   "id": "92524ccc",
   "metadata": {},
   "outputs": [
    {
     "data": {
      "text/plain": [
       "UpdateResult({'n': 34694, 'nModified': 34694, 'ok': 1.0, 'updatedExisting': True}, acknowledged=True)"
      ]
     },
     "execution_count": 31,
     "metadata": {},
     "output_type": "execute_result"
    }
   ],
   "source": [
    "# Change the data type from String to Integer for RatingValue\n",
    "db.establishments.update_many(\n",
    "    {\"RatingValue\": {\"$type\": \"string\"}},\n",
    "    [{\"$set\": {\"RatingValue\": {\"$toInt\": \"$RatingValue\"}}}]\n",
    ")\n"
   ]
  },
  {
   "cell_type": "code",
   "execution_count": 34,
   "id": "0deacaf9",
   "metadata": {},
   "outputs": [
    {
     "name": "stdout",
     "output_type": "stream",
     "text": [
      "{'AddressLine1': 'St Marys Church Of England Primary School',\n",
      " 'AddressLine2': 'Warren Road',\n",
      " 'AddressLine3': 'Folkestone',\n",
      " 'AddressLine4': 'Kent',\n",
      " 'BusinessName': 'St Marys COE (aided) Primary School',\n",
      " 'BusinessType': 'School/college/university',\n",
      " 'BusinessTypeID': 7845,\n",
      " 'ChangesByServerID': 0,\n",
      " 'Distance': 4591.871474174837,\n",
      " 'FHRSID': 289353,\n",
      " 'LocalAuthorityBusinessID': 'PI/000002468',\n",
      " 'LocalAuthorityCode': '188',\n",
      " 'LocalAuthorityEmailAddress': 'foodteam@folkestone-hythe.gov.uk',\n",
      " 'LocalAuthorityName': 'Folkestone and Hythe',\n",
      " 'LocalAuthorityWebSite': 'http://www.folkestone-hythe.gov.uk',\n",
      " 'NewRatingPending': False,\n",
      " 'Phone': '',\n",
      " 'PostCode': 'CT19 6QH',\n",
      " 'RatingDate': '2016-09-13T00:00:00',\n",
      " 'RatingKey': 'fhrs_5_en-gb',\n",
      " 'RatingValue': 5,\n",
      " 'RightToReply': '',\n",
      " 'SchemeType': 'FHRS',\n",
      " '_id': ObjectId('66a1b7a6a291c8a8dc90fc7e'),\n",
      " 'geocode': {'latitude': '51.085797', 'longitude': '1.194762'},\n",
      " 'links': [{'href': 'https://api.ratings.food.gov.uk/establishments/289353',\n",
      "            'rel': 'self'}],\n",
      " 'meta': {'dataSource': None,\n",
      "          'extractDate': '0001-01-01T00:00:00',\n",
      "          'itemCount': 0,\n",
      "          'pageNumber': 0,\n",
      "          'pageSize': 0,\n",
      "          'returncode': None,\n",
      "          'totalCount': 0,\n",
      "          'totalPages': 0},\n",
      " 'scores': {'ConfidenceInManagement': 0, 'Hygiene': 0, 'Structural': 0}}\n"
     ]
    }
   ],
   "source": [
    "# Check that the coordinates and rating value are now numbers\n",
    "sample_document = db.establishments.find_one()\n",
    "pprint(sample_document)"
   ]
  },
  {
   "cell_type": "code",
   "execution_count": null,
   "id": "4351f48a-2c87-411b-9925-05e03aba2120",
   "metadata": {},
   "outputs": [],
   "source": []
  }
 ],
 "metadata": {
  "kernelspec": {
   "display_name": "Python 3 (ipykernel)",
   "language": "python",
   "name": "python3"
  },
  "language_info": {
   "codemirror_mode": {
    "name": "ipython",
    "version": 3
   },
   "file_extension": ".py",
   "mimetype": "text/x-python",
   "name": "python",
   "nbconvert_exporter": "python",
   "pygments_lexer": "ipython3",
   "version": "3.11.9"
  }
 },
 "nbformat": 4,
 "nbformat_minor": 5
}
